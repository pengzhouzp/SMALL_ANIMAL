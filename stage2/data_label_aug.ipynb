{
 "cells": [
  {
   "cell_type": "code",
   "execution_count": 1,
   "metadata": {},
   "outputs": [],
   "source": [
    "import numpy as np\n",
    "import skimage.io as io\n",
    "import time"
   ]
  },
  {
   "cell_type": "code",
   "execution_count": null,
   "metadata": {},
   "outputs": [],
   "source": [
    "raw_images_folder_path = \"C:/Users/pzhou10/Downloads/SPIE2020_stage2/image/ori\"\n",
    "save_dir = \"C:/Users/pzhou10/Downloads/SPIE2020_stage2/image/aug/\"\n",
    "\n",
    "image_number = 0\n",
    "\n",
    "with open(\"boxes.txt\") as file_b, open(\"coordinates.txt\") as file_c:\n",
    "    for line_b, line_c in zip(file_b,file_c):\n",
    "        data_b = line_b.split(\"\\t\")\n",
    "        data_c = line_c.split(\"\\t\")\n",
    "        raw_image_path = raw_images_folder_path + \"IMG_\" + data_b[0] + \".JPG\"\n",
    "        raw_image = io.imread(raw_image_path)\n",
    "        for i in np.arange(10):\n",
    "            for j in np.arange(10):\n",
    "                mask_name = str(image_number+10*i+j) + \".png\"\n",
    "                cropped_mask_array = raw_image[int(data_b[2])-20+4*j:int(data_b[4])-20+4*j,int(data_b[1])-20+4*i:int(data_b[3])-20+4*i] \n",
    "                result_dir = save_dir + mask_name\n",
    "                cropped_mask_array = np.uint8(cropped_mask_array)\n",
    "                io.imsave(result_dir,cropped_mask_array,check_contrast=False)\n",
    "        image_number = image_number + 100"
   ]
  },
  {
   "cell_type": "code",
   "execution_count": 2,
   "metadata": {},
   "outputs": [],
   "source": [
    "def makeGaussian(xdim,ydim,xmean,ymean,xsigma,ysigma):\n",
    "    \"\"\"\n",
    "    xdim and ydim are the x and y dimensions of the image.\n",
    "    xmean and ymean are the x and y coordinates for the mean of the Gaussian distribution.\n",
    "    xsigma and ysigma are the x and y standard deviations of the Gaussian distribution.\n",
    "    \"\"\"\n",
    "    x = np.arange(1,xdim+1,1)\n",
    "    y = np.arange(1,ydim+1,1)\n",
    "    xx,yy = np.meshgrid(x,y)\n",
    "    # 2D Gaussian with max pixel value at 255.\n",
    "    z = 255*np.exp(-0.5*(np.square(xx-(xmean+1))/np.square(xsigma) + np.square(yy-(ymean+1))/np.square(ysigma)))\n",
    "    z = np.uint8(z)\n",
    "    return(z)"
   ]
  },
  {
   "cell_type": "code",
   "execution_count": null,
   "metadata": {},
   "outputs": [],
   "source": [
    "raw_images_folder_path = \"C:/Users/pzhou10/Downloads/SPIE2020_stage2/image/ori/\"\n",
    "save_dir = \"C:/Users/pzhou10/Downloads/SPIE2020_stage2/image/r20/\"\n",
    "\n",
    "image_number = 0\n",
    "\n",
    "with open(\"boxes.txt\") as file_b, open(\"coordinates.txt\") as file_c:\n",
    "    for line_b, line_c in zip(file_b,file_c):\n",
    "        data_b = line_b.split(\"\\t\")\n",
    "        data_c = line_c.split(\"\\t\")\n",
    "        raw_image_path = raw_images_folder_path + \"IMG_\" + data_b[0] + \".JPG\"\n",
    "        raw_image = io.imread(raw_image_path)\n",
    "        for i in np.arange(10):\n",
    "            for j in np.arange(10):\n",
    "                mask_name = str(image_number+10*i+j) + \".png\"\n",
    "                Bregma = makeGaussian(2448,3264,int(data_c[1]),int(data_c[2]),20,20)\n",
    "                Lambda = makeGaussian(2448,3264,int(data_c[3]),int(data_c[4]),20,20)\n",
    "                Background = np.zeros((3264,2448))                \n",
    "                mask_array = np.dstack((Bregma,Lambda,Background))\n",
    "                cropped_mask_array = mask_array[int(data_b[2])-20+4*j:int(data_b[4])-20+4*j,int(data_b[1])-20+4*i:int(data_b[3])-20+4*i] \n",
    "                cropped_mask_array = np.uint8(cropped_mask_array)\n",
    "                result_dir = save_dir + mask_name\n",
    "                io.imsave(result_dir,cropped_mask_array,check_contrast=False)\n",
    "        image_number = image_number + 100"
   ]
  }
 ],
 "metadata": {
  "kernelspec": {
   "display_name": "Python 3",
   "language": "python",
   "name": "python3"
  },
  "language_info": {
   "codemirror_mode": {
    "name": "ipython",
    "version": 3
   },
   "file_extension": ".py",
   "mimetype": "text/x-python",
   "name": "python",
   "nbconvert_exporter": "python",
   "pygments_lexer": "ipython3",
   "version": "3.6.10"
  }
 },
 "nbformat": 4,
 "nbformat_minor": 4
}
