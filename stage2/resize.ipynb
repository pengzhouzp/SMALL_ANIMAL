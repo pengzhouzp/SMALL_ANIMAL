{
 "cells": [
  {
   "cell_type": "code",
   "execution_count": 2,
   "metadata": {},
   "outputs": [],
   "source": [
    "import numpy as np\n",
    "import skimage.io as io\n",
    "from skimage.transform import resize"
   ]
  },
  {
   "cell_type": "code",
   "execution_count": 14,
   "metadata": {},
   "outputs": [],
   "source": [
    "img_path = \"C:/Users/pzhou10/Downloads/SPIE2020_stage2/2020image/aug/\"\n",
    "save_dir = \"C:/Users/pzhou10/Downloads/SPIE2020_stage2/2020image/resize256/\""
   ]
  },
  {
   "cell_type": "code",
   "execution_count": 15,
   "metadata": {},
   "outputs": [],
   "source": [
    "for i in np.arange(9300):\n",
    "    ori_img = img_path + str(i) + \".png\"\n",
    "    ori = io.imread(ori_img)\n",
    "    reimg = resize(ori, (256, 256))\n",
    "    reimg = reimg * 255\n",
    "    reimg = np.uint8(reimg)\n",
    "    result_dir = save_dir + str(i) + \".png\"\n",
    "    io.imsave(result_dir,reimg,check_contrast=False)"
   ]
  }
 ],
 "metadata": {
  "kernelspec": {
   "display_name": "Python 3",
   "language": "python",
   "name": "python3"
  },
  "language_info": {
   "codemirror_mode": {
    "name": "ipython",
    "version": 3
   },
   "file_extension": ".py",
   "mimetype": "text/x-python",
   "name": "python",
   "nbconvert_exporter": "python",
   "pygments_lexer": "ipython3",
   "version": "3.6.10"
  }
 },
 "nbformat": 4,
 "nbformat_minor": 4
}
